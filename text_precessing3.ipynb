{
 "cells": [
  {
   "cell_type": "markdown",
   "source": [
    "## I always uh do the main um processing, I mean, the uh um data-processing. \r\n",
    "## -> I always do the main processing, the data processing. (의미없는 단어들 제거)"
   ],
   "metadata": {}
  },
  {
   "cell_type": "code",
   "execution_count": null,
   "source": [
    "# 토스마스터즈 : 영어 발표 관련한 모임\r\n",
    "# 단어를 처리하기 전에, 그럼 어떤 것이 단어인가?\r\n",
    "# 단어의 정의가 필요하고..."
   ],
   "outputs": [],
   "metadata": {}
  },
  {
   "cell_type": "code",
   "execution_count": null,
   "source": [
    "# Vocabulary\r\n",
    "# 유사한 단어 형태들의 집합"
   ],
   "outputs": [],
   "metadata": {}
  },
  {
   "cell_type": "markdown",
   "source": [
    "## I always uh do the main um processing, I mean, the uh um data-processing.\r\n",
    "## -> { I, always, uh, do, the, main, um, processing, mean, data } (Vocabulary)\r\n",
    "## 말뭉치 (Corpus)"
   ],
   "metadata": {}
  },
  {
   "cell_type": "code",
   "execution_count": 1,
   "source": [
    "# Tokens : 문서 및 문장에서 단어들 (Tokens)의 리스트 (목록)\r\n",
    "# I always uh do the main um processing, I mean, the uh um data-processing.\r\n",
    "# 1   2     3  4  5   6   7     8        9  10   11  12 13  14      15"
   ],
   "outputs": [],
   "metadata": {}
  },
  {
   "cell_type": "code",
   "execution_count": 1,
   "source": [
    "import spacy\r\n",
    "import re"
   ],
   "outputs": [],
   "metadata": {}
  },
  {
   "cell_type": "code",
   "execution_count": 2,
   "source": [
    "# python -m spacy download en_core_web_sm\r\n",
    "nlp = spacy.load(\"en_core_web_sm\")"
   ],
   "outputs": [],
   "metadata": {}
  },
  {
   "cell_type": "code",
   "execution_count": 6,
   "source": [
    "doc = \"I always uh do the main um processing, I mean, the uh um data-processing.\""
   ],
   "outputs": [],
   "metadata": {}
  },
  {
   "cell_type": "code",
   "execution_count": 10,
   "source": [
    "stats = nlp(doc)\r\n",
    "type(doc), doc, type(stats), stats"
   ],
   "outputs": [
    {
     "output_type": "execute_result",
     "data": {
      "text/plain": [
       "(str,\n",
       " 'I always uh do the main um processing, I mean, the uh um data-processing.',\n",
       " spacy.tokens.doc.Doc,\n",
       " I always uh do the main um processing, I mean, the uh um data-processing.)"
      ]
     },
     "metadata": {},
     "execution_count": 10
    }
   ],
   "metadata": {}
  },
  {
   "cell_type": "code",
   "execution_count": 16,
   "source": [
    "for token in stats:\r\n",
    "    print(token.text, type(token.text), token, type(token))"
   ],
   "outputs": [
    {
     "output_type": "stream",
     "name": "stdout",
     "text": [
      "I <class 'str'> I <class 'spacy.tokens.token.Token'>\n",
      "always <class 'str'> always <class 'spacy.tokens.token.Token'>\n",
      "uh <class 'str'> uh <class 'spacy.tokens.token.Token'>\n",
      "do <class 'str'> do <class 'spacy.tokens.token.Token'>\n",
      "the <class 'str'> the <class 'spacy.tokens.token.Token'>\n",
      "main <class 'str'> main <class 'spacy.tokens.token.Token'>\n",
      "um <class 'str'> um <class 'spacy.tokens.token.Token'>\n",
      "processing <class 'str'> processing <class 'spacy.tokens.token.Token'>\n",
      ", <class 'str'> , <class 'spacy.tokens.token.Token'>\n",
      "I <class 'str'> I <class 'spacy.tokens.token.Token'>\n",
      "mean <class 'str'> mean <class 'spacy.tokens.token.Token'>\n",
      ", <class 'str'> , <class 'spacy.tokens.token.Token'>\n",
      "the <class 'str'> the <class 'spacy.tokens.token.Token'>\n",
      "uh <class 'str'> uh <class 'spacy.tokens.token.Token'>\n",
      "um <class 'str'> um <class 'spacy.tokens.token.Token'>\n",
      "data <class 'str'> data <class 'spacy.tokens.token.Token'>\n",
      "- <class 'str'> - <class 'spacy.tokens.token.Token'>\n",
      "processing <class 'str'> processing <class 'spacy.tokens.token.Token'>\n",
      ". <class 'str'> . <class 'spacy.tokens.token.Token'>\n"
     ]
    }
   ],
   "metadata": {}
  },
  {
   "cell_type": "code",
   "execution_count": 17,
   "source": [
    "doc2 = \"Korea has a reasonable population.\"\r\n",
    "stats = nlp(doc2)\r\n",
    "for token in stats:\r\n",
    "    print(token.text)"
   ],
   "outputs": [
    {
     "output_type": "stream",
     "name": "stdout",
     "text": [
      "Korea\n",
      "has\n",
      "a\n",
      "reasonable\n",
      "population\n",
      ".\n"
     ]
    }
   ],
   "metadata": {}
  },
  {
   "cell_type": "code",
   "execution_count": null,
   "source": [
    "# spacy의 nlp 방식 말고 이전에 re 방식으로 doc를 token화 해서 for로 출력해보세요!\r\n",
    "doc = \"I always uh do the main um processing, I mean, the uh um data-processing.\"\r\n",
    "\r\n",
    "for token in re.split(\"\\W+\", doc):\r\n",
    "    print(token, type(token))"
   ],
   "outputs": [],
   "metadata": {}
  },
  {
   "cell_type": "code",
   "execution_count": 24,
   "source": [
    "L = list(nlp.vocab.strings)\r\n",
    "type(nlp.vocab.strings), type(L), len(L)"
   ],
   "outputs": [
    {
     "output_type": "execute_result",
     "data": {
      "text/plain": [
       "(spacy.strings.StringStore, list, 83814)"
      ]
     },
     "metadata": {},
     "execution_count": 24
    }
   ],
   "metadata": {}
  },
  {
   "cell_type": "code",
   "execution_count": 28,
   "source": [
    "L[50000], L[50001], L[83813]  # en_core_web_sm에서 특정 위치의 단어 보기"
   ],
   "outputs": [
    {
     "output_type": "execute_result",
     "data": {
      "text/plain": [
       "('glands', 'glandular', '￥dd')"
      ]
     },
     "metadata": {},
     "execution_count": 28
    }
   ],
   "metadata": {}
  },
  {
   "cell_type": "code",
   "execution_count": 29,
   "source": [
    "!python -m spacy download en_core_web_trf"
   ],
   "outputs": [
    {
     "output_type": "stream",
     "name": "stdout",
     "text": [
      "^C\n"
     ]
    }
   ],
   "metadata": {}
  },
  {
   "cell_type": "code",
   "execution_count": null,
   "source": [
    "# python -m spacy download en_core_web_trf\r\n",
    "nlp_accuracy = spacy.load(\"en_core_web_trf\")\r\n",
    "#L_accuracy = list(nlp_accuracy.vocab.strings)\r\n",
    "#type(nlp_accuracy.vocab.strings), type(L_accuracy), len(L_accuracy)"
   ],
   "outputs": [
    {
     "output_type": "stream",
     "name": "stdout",
     "text": [
      "Collecting en-core-web-trf==3.1.0\n",
      "  Downloading https://github.com/explosion/spacy-models/releases/download/en_core_web_trf-3.1.0/en_core_web_trf-3.1.0-py3-none-any.whl (460.2 MB)\n",
      "Requirement already satisfied: spacy<3.2.0,>=3.1.0 in .\\venv_20210724\\lib\\site-packages (from en-core-web-trf==3.1.0) (3.1.1)\n",
      "Requirement already satisfied: spacy-transformers<1.1.0,>=1.0.3 in .\\venv_20210724\\lib\\site-packages (from en-core-web-trf==3.1.0) (1.0.3)\n",
      "Requirement already satisfied: packaging>=20.0 in .\\venv_20210724\\lib\\site-packages (from spacy<3.2.0,>=3.1.0->en-core-web-trf==3.1.0) (21.0)\n",
      "Requirement already satisfied: wasabi<1.1.0,>=0.8.1 in .\\venv_20210724\\lib\\site-packages (from spacy<3.2.0,>=3.1.0->en-core-web-trf==3.1.0) (0.8.2)\n",
      "Requirement already satisfied: cymem<2.1.0,>=2.0.2 in .\\venv_20210724\\lib\\site-packages (from spacy<3.2.0,>=3.1.0->en-core-web-trf==3.1.0) (2.0.5)\n",
      "Requirement already satisfied: typer<0.4.0,>=0.3.0 in .\\venv_20210724\\lib\\site-packages (from spacy<3.2.0,>=3.1.0->en-core-web-trf==3.1.0) (0.3.2)\n",
      "Requirement already satisfied: blis<0.8.0,>=0.4.0 in .\\venv_20210724\\lib\\site-packages (from spacy<3.2.0,>=3.1.0->en-core-web-trf==3.1.0) (0.7.4)\n",
      "Requirement already satisfied: numpy>=1.15.0 in .\\venv_20210724\\lib\\site-packages (from spacy<3.2.0,>=3.1.0->en-core-web-trf==3.1.0) (1.21.0)\n",
      "Requirement already satisfied: setuptools in .\\venv_20210724\\lib\\site-packages (from spacy<3.2.0,>=3.1.0->en-core-web-trf==3.1.0) (49.2.1)\n",
      "Requirement already satisfied: pathy>=0.3.5 in .\\venv_20210724\\lib\\site-packages (from spacy<3.2.0,>=3.1.0->en-core-web-trf==3.1.0) (0.6.0)\n",
      "Requirement already satisfied: jinja2 in .\\venv_20210724\\lib\\site-packages (from spacy<3.2.0,>=3.1.0->en-core-web-trf==3.1.0) (3.0.1)\n",
      "Requirement already satisfied: murmurhash<1.1.0,>=0.28.0 in .\\venv_20210724\\lib\\site-packages (from spacy<3.2.0,>=3.1.0->en-core-web-trf==3.1.0) (1.0.5)\n",
      "Requirement already satisfied: srsly<3.0.0,>=2.4.1 in .\\venv_20210724\\lib\\site-packages (from spacy<3.2.0,>=3.1.0->en-core-web-trf==3.1.0) (2.4.1)\n",
      "Requirement already satisfied: requests<3.0.0,>=2.13.0 in .\\venv_20210724\\lib\\site-packages (from spacy<3.2.0,>=3.1.0->en-core-web-trf==3.1.0) (2.26.0)\n",
      "Requirement already satisfied: catalogue<2.1.0,>=2.0.4 in .\\venv_20210724\\lib\\site-packages (from spacy<3.2.0,>=3.1.0->en-core-web-trf==3.1.0) (2.0.4)\n",
      "Requirement already satisfied: pydantic!=1.8,!=1.8.1,<1.9.0,>=1.7.4 in .\\venv_20210724\\lib\\site-packages (from spacy<3.2.0,>=3.1.0->en-core-web-trf==3.1.0) (1.8.2)\n",
      "Requirement already satisfied: thinc<8.1.0,>=8.0.8 in .\\venv_20210724\\lib\\site-packages (from spacy<3.2.0,>=3.1.0->en-core-web-trf==3.1.0) (8.0.8)\n",
      "Requirement already satisfied: preshed<3.1.0,>=3.0.2 in .\\venv_20210724\\lib\\site-packages (from spacy<3.2.0,>=3.1.0->en-core-web-trf==3.1.0) (3.0.5)\n",
      "Requirement already satisfied: tqdm<5.0.0,>=4.38.0 in .\\venv_20210724\\lib\\site-packages (from spacy<3.2.0,>=3.1.0->en-core-web-trf==3.1.0) (4.61.2)\n",
      "Requirement already satisfied: spacy-legacy<3.1.0,>=3.0.7 in .\\venv_20210724\\lib\\site-packages (from spacy<3.2.0,>=3.1.0->en-core-web-trf==3.1.0) (3.0.8)\n",
      "Requirement already satisfied: pyparsing>=2.0.2 in .\\venv_20210724\\lib\\site-packages (from packaging>=20.0->spacy<3.2.0,>=3.1.0->en-core-web-trf==3.1.0) (2.4.7)\n",
      "Requirement already satisfied: smart-open<6.0.0,>=5.0.0 in .\\venv_20210724\\lib\\site-packages (from pathy>=0.3.5->spacy<3.2.0,>=3.1.0->en-core-web-trf==3.1.0) (5.1.0)\n",
      "Requirement already satisfied: typing-extensions>=3.7.4.3 in .\\venv_20210724\\lib\\site-packages (from pydantic!=1.8,!=1.8.1,<1.9.0,>=1.7.4->spacy<3.2.0,>=3.1.0->en-core-web-trf==3.1.0) (3.10.0.0)\n",
      "Requirement already satisfied: certifi>=2017.4.17 in .\\venv_20210724\\lib\\site-packages (from requests<3.0.0,>=2.13.0->spacy<3.2.0,>=3.1.0->en-core-web-trf==3.1.0) (2021.5.30)\n",
      "Requirement already satisfied: urllib3<1.27,>=1.21.1 in .\\venv_20210724\\lib\\site-packages (from requests<3.0.0,>=2.13.0->spacy<3.2.0,>=3.1.0->en-core-web-trf==3.1.0) (1.26.6)\n",
      "Requirement already satisfied: idna<4,>=2.5 in .\\venv_20210724\\lib\\site-packages (from requests<3.0.0,>=2.13.0->spacy<3.2.0,>=3.1.0->en-core-web-trf==3.1.0) (3.2)\n",
      "Requirement already satisfied: charset-normalizer~=2.0.0 in .\\venv_20210724\\lib\\site-packages (from requests<3.0.0,>=2.13.0->spacy<3.2.0,>=3.1.0->en-core-web-trf==3.1.0) (2.0.3)\n",
      "Requirement already satisfied: torch>=1.5.0 in .\\venv_20210724\\lib\\site-packages (from spacy-transformers<1.1.0,>=1.0.3->en-core-web-trf==3.1.0) (1.9.0)\n",
      "Requirement already satisfied: transformers<4.7.0,>=3.4.0 in .\\venv_20210724\\lib\\site-packages (from spacy-transformers<1.1.0,>=1.0.3->en-core-web-trf==3.1.0) (4.6.1)\n",
      "Requirement already satisfied: spacy-alignments<1.0.0,>=0.7.2 in .\\venv_20210724\\lib\\site-packages (from spacy-transformers<1.1.0,>=1.0.3->en-core-web-trf==3.1.0) (0.8.3)\n",
      "Requirement already satisfied: colorama in .\\venv_20210724\\lib\\site-packages (from tqdm<5.0.0,>=4.38.0->spacy<3.2.0,>=3.1.0->en-core-web-trf==3.1.0) (0.4.4)\n",
      "Requirement already satisfied: tokenizers<0.11,>=0.10.1 in .\\venv_20210724\\lib\\site-packages (from transformers<4.7.0,>=3.4.0->spacy-transformers<1.1.0,>=1.0.3->en-core-web-trf==3.1.0) (0.10.3)\n",
      "Requirement already satisfied: filelock in .\\venv_20210724\\lib\\site-packages (from transformers<4.7.0,>=3.4.0->spacy-transformers<1.1.0,>=1.0.3->en-core-web-trf==3.1.0) (3.0.12)\n",
      "Requirement already satisfied: regex!=2019.12.17 in .\\venv_20210724\\lib\\site-packages (from transformers<4.7.0,>=3.4.0->spacy-transformers<1.1.0,>=1.0.3->en-core-web-trf==3.1.0) (2021.7.6)\n",
      "Requirement already satisfied: sacremoses in .\\venv_20210724\\lib\\site-packages (from transformers<4.7.0,>=3.4.0->spacy-transformers<1.1.0,>=1.0.3->en-core-web-trf==3.1.0) (0.0.45)\n",
      "Requirement already satisfied: huggingface-hub==0.0.8 in .\\venv_20210724\\lib\\site-packages (from transformers<4.7.0,>=3.4.0->spacy-transformers<1.1.0,>=1.0.3->en-core-web-trf==3.1.0) (0.0.8)\n",
      "Requirement already satisfied: click<7.2.0,>=7.1.1 in .\\venv_20210724\\lib\\site-packages (from typer<0.4.0,>=0.3.0->spacy<3.2.0,>=3.1.0->en-core-web-trf==3.1.0) (7.1.2)\n",
      "Requirement already satisfied: MarkupSafe>=2.0 in .\\venv_20210724\\lib\\site-packages (from jinja2->spacy<3.2.0,>=3.1.0->en-core-web-trf==3.1.0) (2.0.1)\n",
      "Requirement already satisfied: joblib in .\\venv_20210724\\lib\\site-packages (from sacremoses->transformers<4.7.0,>=3.4.0->spacy-transformers<1.1.0,>=1.0.3->en-core-web-trf==3.1.0) (1.0.1)\n",
      "Requirement already satisfied: six in .\\venv_20210724\\lib\\site-packages (from sacremoses->transformers<4.7.0,>=3.4.0->spacy-transformers<1.1.0,>=1.0.3->en-core-web-trf==3.1.0) (1.16.0)\n",
      "✔ Download and installation successful\n",
      "You can now load the package via spacy.load('en_core_web_trf')\n"
     ]
    }
   ],
   "metadata": {}
  },
  {
   "cell_type": "code",
   "execution_count": 4,
   "source": [
    "import numpy as np\r\n",
    "import pandas as pd\r\n",
    "from collections import Counter\r\n",
    "import re"
   ],
   "outputs": [],
   "metadata": {}
  },
  {
   "cell_type": "code",
   "execution_count": 5,
   "source": [
    "df = pd.read_csv(\"reviews.csv\")"
   ],
   "outputs": [],
   "metadata": {}
  },
  {
   "cell_type": "code",
   "execution_count": 5,
   "source": [
    "df.head(20)"
   ],
   "outputs": [
    {
     "output_type": "execute_result",
     "data": {
      "text/plain": [
       "      rating                                             review\n",
       "0   negative  terrible place to work for i just heard a stor...\n",
       "1   negative   hours , minutes total time for an extremely s...\n",
       "2   negative  my less than stellar review is for service . w...\n",
       "3   negative  i m granting one star because there s no way t...\n",
       "4   negative  the food here is mediocre at best . i went aft...\n",
       "5   negative   n n nwe looked at our entertainment book for ...\n",
       "6   negative  i had an appointment that was made months in a...\n",
       "7   negative  i frankly don t get why people like this place...\n",
       "8   negative  thought i would give them a nd chance . . . ba...\n",
       "9   negative  if i could give it a negative star i would ! f...\n",
       "10  negative  i agree , i had a similar situation when i wen...\n",
       "11  negative  petsmart is the worst place to take your dog ....\n",
       "12  negative  a pain to get in and out of . i dread each tri...\n",
       "13  negative  really great staff friendly and professional ....\n",
       "14  negative  if i could give this place less than one star ...\n",
       "15  negative  my husband and i ate here after i purchased a ...\n",
       "16  negative  lobby is very nice . service was nice but weir...\n",
       "17  negative  i ve been mis diagnosed many times by dr . aus...\n",
       "18  negative  this use to be one of my favorite ulta locatio...\n",
       "19  negative  westin is a chain , and thus you have expectat..."
      ],
      "text/html": [
       "<div>\n",
       "<style scoped>\n",
       "    .dataframe tbody tr th:only-of-type {\n",
       "        vertical-align: middle;\n",
       "    }\n",
       "\n",
       "    .dataframe tbody tr th {\n",
       "        vertical-align: top;\n",
       "    }\n",
       "\n",
       "    .dataframe thead th {\n",
       "        text-align: right;\n",
       "    }\n",
       "</style>\n",
       "<table border=\"1\" class=\"dataframe\">\n",
       "  <thead>\n",
       "    <tr style=\"text-align: right;\">\n",
       "      <th></th>\n",
       "      <th>rating</th>\n",
       "      <th>review</th>\n",
       "    </tr>\n",
       "  </thead>\n",
       "  <tbody>\n",
       "    <tr>\n",
       "      <th>0</th>\n",
       "      <td>negative</td>\n",
       "      <td>terrible place to work for i just heard a stor...</td>\n",
       "    </tr>\n",
       "    <tr>\n",
       "      <th>1</th>\n",
       "      <td>negative</td>\n",
       "      <td>hours , minutes total time for an extremely s...</td>\n",
       "    </tr>\n",
       "    <tr>\n",
       "      <th>2</th>\n",
       "      <td>negative</td>\n",
       "      <td>my less than stellar review is for service . w...</td>\n",
       "    </tr>\n",
       "    <tr>\n",
       "      <th>3</th>\n",
       "      <td>negative</td>\n",
       "      <td>i m granting one star because there s no way t...</td>\n",
       "    </tr>\n",
       "    <tr>\n",
       "      <th>4</th>\n",
       "      <td>negative</td>\n",
       "      <td>the food here is mediocre at best . i went aft...</td>\n",
       "    </tr>\n",
       "    <tr>\n",
       "      <th>5</th>\n",
       "      <td>negative</td>\n",
       "      <td>n n nwe looked at our entertainment book for ...</td>\n",
       "    </tr>\n",
       "    <tr>\n",
       "      <th>6</th>\n",
       "      <td>negative</td>\n",
       "      <td>i had an appointment that was made months in a...</td>\n",
       "    </tr>\n",
       "    <tr>\n",
       "      <th>7</th>\n",
       "      <td>negative</td>\n",
       "      <td>i frankly don t get why people like this place...</td>\n",
       "    </tr>\n",
       "    <tr>\n",
       "      <th>8</th>\n",
       "      <td>negative</td>\n",
       "      <td>thought i would give them a nd chance . . . ba...</td>\n",
       "    </tr>\n",
       "    <tr>\n",
       "      <th>9</th>\n",
       "      <td>negative</td>\n",
       "      <td>if i could give it a negative star i would ! f...</td>\n",
       "    </tr>\n",
       "    <tr>\n",
       "      <th>10</th>\n",
       "      <td>negative</td>\n",
       "      <td>i agree , i had a similar situation when i wen...</td>\n",
       "    </tr>\n",
       "    <tr>\n",
       "      <th>11</th>\n",
       "      <td>negative</td>\n",
       "      <td>petsmart is the worst place to take your dog ....</td>\n",
       "    </tr>\n",
       "    <tr>\n",
       "      <th>12</th>\n",
       "      <td>negative</td>\n",
       "      <td>a pain to get in and out of . i dread each tri...</td>\n",
       "    </tr>\n",
       "    <tr>\n",
       "      <th>13</th>\n",
       "      <td>negative</td>\n",
       "      <td>really great staff friendly and professional ....</td>\n",
       "    </tr>\n",
       "    <tr>\n",
       "      <th>14</th>\n",
       "      <td>negative</td>\n",
       "      <td>if i could give this place less than one star ...</td>\n",
       "    </tr>\n",
       "    <tr>\n",
       "      <th>15</th>\n",
       "      <td>negative</td>\n",
       "      <td>my husband and i ate here after i purchased a ...</td>\n",
       "    </tr>\n",
       "    <tr>\n",
       "      <th>16</th>\n",
       "      <td>negative</td>\n",
       "      <td>lobby is very nice . service was nice but weir...</td>\n",
       "    </tr>\n",
       "    <tr>\n",
       "      <th>17</th>\n",
       "      <td>negative</td>\n",
       "      <td>i ve been mis diagnosed many times by dr . aus...</td>\n",
       "    </tr>\n",
       "    <tr>\n",
       "      <th>18</th>\n",
       "      <td>negative</td>\n",
       "      <td>this use to be one of my favorite ulta locatio...</td>\n",
       "    </tr>\n",
       "    <tr>\n",
       "      <th>19</th>\n",
       "      <td>negative</td>\n",
       "      <td>westin is a chain , and thus you have expectat...</td>\n",
       "    </tr>\n",
       "  </tbody>\n",
       "</table>\n",
       "</div>"
      ]
     },
     "metadata": {},
     "execution_count": 5
    }
   ],
   "metadata": {}
  },
  {
   "cell_type": "code",
   "execution_count": 6,
   "source": [
    "df.tail()"
   ],
   "outputs": [
    {
     "output_type": "execute_result",
     "data": {
      "text/plain": [
       "         rating                                             review\n",
       "55995  positive  great food . wonderful , friendly service . i ...\n",
       "55996  positive  charlotte should be the new standard for moder...\n",
       "55997  positive  get the encore sandwich ! ! make sure to get i...\n",
       "55998  positive  i m a pretty big ice cream gelato fan . pretty...\n",
       "55999  positive  where else can you find all the parts and piec..."
      ],
      "text/html": [
       "<div>\n",
       "<style scoped>\n",
       "    .dataframe tbody tr th:only-of-type {\n",
       "        vertical-align: middle;\n",
       "    }\n",
       "\n",
       "    .dataframe tbody tr th {\n",
       "        vertical-align: top;\n",
       "    }\n",
       "\n",
       "    .dataframe thead th {\n",
       "        text-align: right;\n",
       "    }\n",
       "</style>\n",
       "<table border=\"1\" class=\"dataframe\">\n",
       "  <thead>\n",
       "    <tr style=\"text-align: right;\">\n",
       "      <th></th>\n",
       "      <th>rating</th>\n",
       "      <th>review</th>\n",
       "    </tr>\n",
       "  </thead>\n",
       "  <tbody>\n",
       "    <tr>\n",
       "      <th>55995</th>\n",
       "      <td>positive</td>\n",
       "      <td>great food . wonderful , friendly service . i ...</td>\n",
       "    </tr>\n",
       "    <tr>\n",
       "      <th>55996</th>\n",
       "      <td>positive</td>\n",
       "      <td>charlotte should be the new standard for moder...</td>\n",
       "    </tr>\n",
       "    <tr>\n",
       "      <th>55997</th>\n",
       "      <td>positive</td>\n",
       "      <td>get the encore sandwich ! ! make sure to get i...</td>\n",
       "    </tr>\n",
       "    <tr>\n",
       "      <th>55998</th>\n",
       "      <td>positive</td>\n",
       "      <td>i m a pretty big ice cream gelato fan . pretty...</td>\n",
       "    </tr>\n",
       "    <tr>\n",
       "      <th>55999</th>\n",
       "      <td>positive</td>\n",
       "      <td>where else can you find all the parts and piec...</td>\n",
       "    </tr>\n",
       "  </tbody>\n",
       "</table>\n",
       "</div>"
      ]
     },
     "metadata": {},
     "execution_count": 6
    }
   ],
   "metadata": {}
  },
  {
   "cell_type": "code",
   "execution_count": 6,
   "source": [
    "vocab = {}\r\n",
    "type(vocab)"
   ],
   "outputs": [
    {
     "output_type": "execute_result",
     "data": {
      "text/plain": [
       "dict"
      ]
     },
     "metadata": {},
     "execution_count": 6
    }
   ],
   "metadata": {}
  },
  {
   "cell_type": "code",
   "execution_count": 7,
   "source": [
    "def initializeVocabulary():\r\n",
    "    unkToken = \"<UNK>\"\r\n",
    "    vocab[\"t_2_i\"] = {}\r\n",
    "    vocab[\"i_2_t\"] = {}\r\n",
    "    vocab[\"unkToken\"] = unkToken\r\n",
    "    idx = addToken(unkToken)\r\n",
    "    vocab[\"unkTokenIdx\"] = idx"
   ],
   "outputs": [],
   "metadata": {}
  },
  {
   "cell_type": "code",
   "execution_count": 8,
   "source": [
    "def addToken(token):\r\n",
    "    if token in vocab[\"t_2_i\"]:\r\n",
    "        idx = vocab[\"t_2_i\"][token]\r\n",
    "    else:\r\n",
    "        idx = len(vocab[\"t_2_i\"])\r\n",
    "        vocab[\"t_2_i\"][token] = idx\r\n",
    "        vocab[\"i_2_t\"][idx] = token\r\n",
    "    return idx"
   ],
   "outputs": [],
   "metadata": {}
  },
  {
   "cell_type": "code",
   "execution_count": 9,
   "source": [
    "def addManyTokens(tokens):\r\n",
    "    idxes = [addToken(token) for token in tokens]\r\n",
    "    return idxes"
   ],
   "outputs": [],
   "metadata": {}
  },
  {
   "cell_type": "code",
   "execution_count": 12,
   "source": [
    "def lookupToken(token):\r\n",
    "    if vocab[\"unkTokenIdx\"] >= 0:\r\n",
    "        return vocab[\"t_2_i\"].get(token, vocab[\"unkTokenIdx\"])\r\n",
    "    else:\r\n",
    "        return vocab[\"t_2_i\"][token]"
   ],
   "outputs": [],
   "metadata": {}
  },
  {
   "cell_type": "code",
   "execution_count": 18,
   "source": [
    "def lookupIndex(idx):\r\n",
    "    if idx not in vocab[\"i_2_t\"]:\r\n",
    "        raise KeyError(\"the index (%d) is not there\" % idx)\r\n",
    "    return vocab[\"i_2_t\"][idx]"
   ],
   "outputs": [],
   "metadata": {}
  },
  {
   "cell_type": "code",
   "execution_count": 10,
   "source": [
    "def vocabularyFromDataFrame(df, cutoff=25):\r\n",
    "    initializeVocabulary()\r\n",
    "    wordCounts = Counter()\r\n",
    "    for r in df.review:\r\n",
    "        for word in re.split(\"\\W+\", r):\r\n",
    "            wordCounts[word] += 1\r\n",
    "        for word, count in wordCounts.items():\r\n",
    "            if count > cutoff:\r\n",
    "                addToken(word)\r\n",
    "        "
   ],
   "outputs": [],
   "metadata": {}
  },
  {
   "cell_type": "code",
   "execution_count": 16,
   "source": [
    "def vocabularyFromCorpus(corpus, cutoff=25):\r\n",
    "    initializeVocabulary()\r\n",
    "    wordCounts = Counter()\r\n",
    "    for doc in corpus:\r\n",
    "        for word in re.split(\"\\W+\", doc):\r\n",
    "            wordCounts[word] += 1\r\n",
    "        for word, count in wordCounts.items():\r\n",
    "            if count > cutoff:\r\n",
    "                addToken(word)"
   ],
   "outputs": [],
   "metadata": {}
  },
  {
   "cell_type": "code",
   "execution_count": 18,
   "source": [
    "corpus = np.asarray(df[\"review\"])\r\n",
    "vocabularyFromCorpus(corpus)"
   ],
   "outputs": [],
   "metadata": {}
  },
  {
   "cell_type": "code",
   "execution_count": null,
   "source": [
    "vocabularyFromDataFrame(df)\r\n",
    "vocab"
   ],
   "outputs": [],
   "metadata": {}
  },
  {
   "cell_type": "code",
   "execution_count": 16,
   "source": [
    "lookupToken(\"quiet\")"
   ],
   "outputs": [
    {
     "output_type": "execute_result",
     "data": {
      "text/plain": [
       "1829"
      ]
     },
     "metadata": {},
     "execution_count": 16
    }
   ],
   "metadata": {}
  },
  {
   "cell_type": "code",
   "execution_count": 19,
   "source": [
    "lookupIndex(1829)"
   ],
   "outputs": [
    {
     "output_type": "execute_result",
     "data": {
      "text/plain": [
       "'quiet'"
      ]
     },
     "metadata": {},
     "execution_count": 19
    }
   ],
   "metadata": {}
  },
  {
   "cell_type": "code",
   "execution_count": 20,
   "source": [
    "vocab.keys()"
   ],
   "outputs": [
    {
     "output_type": "execute_result",
     "data": {
      "text/plain": [
       "dict_keys(['t_2_i', 'i_2_t', 'unkToken', 'unkTokenIdx'])"
      ]
     },
     "metadata": {},
     "execution_count": 20
    }
   ],
   "metadata": {}
  },
  {
   "cell_type": "code",
   "execution_count": 13,
   "source": [
    "df.head()"
   ],
   "outputs": [
    {
     "output_type": "execute_result",
     "data": {
      "text/plain": [
       "     rating                                             review\n",
       "0  negative  terrible place to work for i just heard a stor...\n",
       "1  negative   hours , minutes total time for an extremely s...\n",
       "2  negative  my less than stellar review is for service . w...\n",
       "3  negative  i m granting one star because there s no way t...\n",
       "4  negative  the food here is mediocre at best . i went aft..."
      ],
      "text/html": [
       "<div>\n",
       "<style scoped>\n",
       "    .dataframe tbody tr th:only-of-type {\n",
       "        vertical-align: middle;\n",
       "    }\n",
       "\n",
       "    .dataframe tbody tr th {\n",
       "        vertical-align: top;\n",
       "    }\n",
       "\n",
       "    .dataframe thead th {\n",
       "        text-align: right;\n",
       "    }\n",
       "</style>\n",
       "<table border=\"1\" class=\"dataframe\">\n",
       "  <thead>\n",
       "    <tr style=\"text-align: right;\">\n",
       "      <th></th>\n",
       "      <th>rating</th>\n",
       "      <th>review</th>\n",
       "    </tr>\n",
       "  </thead>\n",
       "  <tbody>\n",
       "    <tr>\n",
       "      <th>0</th>\n",
       "      <td>negative</td>\n",
       "      <td>terrible place to work for i just heard a stor...</td>\n",
       "    </tr>\n",
       "    <tr>\n",
       "      <th>1</th>\n",
       "      <td>negative</td>\n",
       "      <td>hours , minutes total time for an extremely s...</td>\n",
       "    </tr>\n",
       "    <tr>\n",
       "      <th>2</th>\n",
       "      <td>negative</td>\n",
       "      <td>my less than stellar review is for service . w...</td>\n",
       "    </tr>\n",
       "    <tr>\n",
       "      <th>3</th>\n",
       "      <td>negative</td>\n",
       "      <td>i m granting one star because there s no way t...</td>\n",
       "    </tr>\n",
       "    <tr>\n",
       "      <th>4</th>\n",
       "      <td>negative</td>\n",
       "      <td>the food here is mediocre at best . i went aft...</td>\n",
       "    </tr>\n",
       "  </tbody>\n",
       "</table>\n",
       "</div>"
      ]
     },
     "metadata": {},
     "execution_count": 13
    }
   ],
   "metadata": {}
  },
  {
   "cell_type": "code",
   "execution_count": 22,
   "source": [
    "def oneHotVector(token, N):\r\n",
    "    oneHot = np.zeros((N, 1))\r\n",
    "    oneHot[lookupToken(token)] = 1\r\n",
    "    return oneHot"
   ],
   "outputs": [],
   "metadata": {}
  },
  {
   "cell_type": "code",
   "execution_count": 48,
   "source": [
    "N = len(vocab[\"t_2_i\"])\r\n",
    "print(N)\r\n",
    "token = \"sure\"\r\n",
    "print(lookupToken(token))\r\n",
    "print(lookupIndex(200))"
   ],
   "outputs": [
    {
     "output_type": "stream",
     "name": "stdout",
     "text": [
      "8946\n",
      "200\n",
      "sure\n"
     ]
    }
   ],
   "metadata": {}
  },
  {
   "cell_type": "code",
   "execution_count": 49,
   "source": [
    "oneHot = oneHotVector(token, N)"
   ],
   "outputs": [],
   "metadata": {}
  },
  {
   "cell_type": "code",
   "execution_count": 50,
   "source": [
    "# [0, 0, 0, 0, ...., 0] 생긴 numpy array 생성, 즉, 0으로 채워진 numpy array생성\r\n",
    "#  "
   ],
   "outputs": [],
   "metadata": {}
  },
  {
   "cell_type": "code",
   "execution_count": 51,
   "source": [
    "oneHot.shape, type(oneHot), oneHot"
   ],
   "outputs": [
    {
     "output_type": "execute_result",
     "data": {
      "text/plain": [
       "((8946, 1),\n",
       " numpy.ndarray,\n",
       " array([[0.],\n",
       "        [0.],\n",
       "        [0.],\n",
       "        ...,\n",
       "        [0.],\n",
       "        [0.],\n",
       "        [0.]]))"
      ]
     },
     "metadata": {},
     "execution_count": 51
    }
   ],
   "metadata": {}
  },
  {
   "cell_type": "code",
   "execution_count": 52,
   "source": [
    "oneHot[200], oneHot[199], oneHot[201] "
   ],
   "outputs": [
    {
     "output_type": "execute_result",
     "data": {
      "text/plain": [
       "(array([1.]), array([0.]), array([0.]))"
      ]
     },
     "metadata": {},
     "execution_count": 52
    }
   ],
   "metadata": {}
  },
  {
   "cell_type": "code",
   "execution_count": null,
   "source": [],
   "outputs": [],
   "metadata": {}
  }
 ],
 "metadata": {
  "orig_nbformat": 4,
  "language_info": {
   "name": "python"
  }
 },
 "nbformat": 4,
 "nbformat_minor": 2
}